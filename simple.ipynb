{
 "cells": [
  {
   "cell_type": "code",
   "execution_count": 56,
   "metadata": {},
   "outputs": [],
   "source": [
    "import boto3\n",
    "from langchain_aws import ChatBedrock\n",
    "from botocore.config import Config\n",
    "import warnings\n",
    "warnings.filterwarnings(\"ignore\")\n",
    "\n",
    "region = \"us-west-2\"\n",
    "config = Config(\n",
    "    region_name=region,\n",
    "    signature_version = \"v4\",\n",
    "    retries={\n",
    "        \"max_attempts\":3,\n",
    "        \"mode\" : \"standard\",\n",
    "    }\n",
    ")\n",
    "bedrock_rt = boto3.client(\"bedrock-runtime\", config=config)\n",
    "\n",
    "model_id = \"anthropic.claude-3-sonnet-20240229-v1:0\"\n",
    "\n",
    "model_kwargs = {\n",
    "    \"max_tokens\" : 4096,\n",
    "    \"temperature\" : 0.0,\n",
    "    \"stop_sequences\" : [\"Human\"],\n",
    "}\n",
    "\n",
    "llm = ChatBedrock(\n",
    "    client = bedrock_rt,\n",
    "    model_id = model_id,\n",
    "    model_kwargs = model_kwargs,\n",
    ")"
   ]
  },
  {
   "cell_type": "code",
   "execution_count": 58,
   "metadata": {},
   "outputs": [],
   "source": [
    "import os\n",
    "import getpass\n",
    "from typing import Annotated\n",
    "\n",
    "from langchain_community.tools.tavily_search import TavilySearchResults\n",
    "from langchain_experimental.tools import PythonREPLTool\n",
    "from langchain_core.output_parsers import StrOutputParser\n",
    "\n",
    "os.environ['TAVILY_API_KEY'] = getpass.getpass()\n",
    "tavily_tool = TavilySearchResults(max_results=5)\n",
    "\n",
    "python_repl_tool = PythonREPLTool()"
   ]
  },
  {
   "cell_type": "code",
   "execution_count": 57,
   "metadata": {},
   "outputs": [],
   "source": [
    "from typing import TypedDict,Sequence,Annotated\n",
    "import operator\n",
    "\n",
    "class AgentState(TypedDict):\n",
    "    messages: Annotated[Sequence[BaseMessage],operator.add]\n",
    "    "
   ]
  },
  {
   "cell_type": "code",
   "execution_count": 59,
   "metadata": {},
   "outputs": [],
   "source": [
    "tools = [tavily_tool]\n",
    "llm = llm.bind_tools(tools)\n",
    "\n",
    "def agent(state):\n",
    "    messages = state['messages']\n",
    "    response = llm.invoke(messages)\n",
    "    return {\"messages\" : [response]}"
   ]
  },
  {
   "cell_type": "code",
   "execution_count": 65,
   "metadata": {},
   "outputs": [],
   "source": [
    "from langgraph.prebuilt import ToolInvocation\n",
    "import json\n",
    "from langchain_core.messages import FunctionMessage,AIMessage\n",
    "from langgraph.prebuilt import ToolExecutor\n",
    "\n",
    "tool_executor = ToolExecutor(tools)\n",
    "\n",
    "def researcher(state):\n",
    "    messages = state['messages']\n",
    "    last_message = messages[-1]\n",
    "\n",
    "    parsed_tool_input = json.loads(last_message.additional_kwargs[\"tool_calls\"])\n",
    "    action = ToolInvocation(\n",
    "        tool = parsed_tool_input[\"name\"],\n",
    "        tool_input = parsed_tool_input['args']['query']\n",
    "    )\n",
    "\n",
    "    response = tool_executor.invoke(action)\n",
    "    function_message = FunctionMessage(\n",
    "        content = str(response),\n",
    "        name = action.tool,\n",
    "    )\n",
    "    return {\n",
    "        \"messages\" : [function_message]\n",
    "    }"
   ]
  },
  {
   "cell_type": "code",
   "execution_count": 66,
   "metadata": {},
   "outputs": [],
   "source": [
    "def router(state):\n",
    "    messages = state['messages']\n",
    "    last_message = messages[-1]\n",
    "\n",
    "    if \"tool_calls\" in last_message.additional_kwargs:\n",
    "        return \"continue\"\n",
    "    else: \n",
    "        return \"end\""
   ]
  },
  {
   "cell_type": "code",
   "execution_count": 67,
   "metadata": {},
   "outputs": [],
   "source": [
    "from langgraph.graph import StateGraph,START,END\n",
    "\n",
    "workflow = StateGraph(AgentState)\n",
    "\n",
    "workflow.add_node(\"Agent\",agent)\n",
    "workflow.add_node(\"Researcher\",researcher)\n",
    "\n",
    "workflow.add_conditional_edges(\"Agent\", router , {\n",
    "    \"continue\" : \"Researcher\",\n",
    "    \"end\" : END\n",
    "})\n",
    "\n",
    "workflow.add_edge(\"Researcher\",\"Agent\")\n",
    "workflow.set_entry_point(\"Agent\")\n",
    "\n",
    "app = workflow.compile()"
   ]
  },
  {
   "cell_type": "code",
   "execution_count": 68,
   "metadata": {},
   "outputs": [
    {
     "data": {
      "image/jpeg": "[encoded data removed]",
      "text/plain": [
       "<IPython.core.display.Image object>"
      ]
     },
     "metadata": {},
     "output_type": "display_data"
    }
   ],
   "source": [
    "from IPython.display import Image,display\n",
    "\n",
    "display(Image(app.get_graph(xray=True).draw_mermaid_png()))"
   ]
  },
  {
   "cell_type": "code",
   "execution_count": 69,
   "metadata": {},
   "outputs": [
    {
     "data": {
      "text/plain": [
       "{'messages': [HumanMessage(content='What are the current weather conditions in Bengaluru?'),\n",
       "  AIMessage(content='', additional_kwargs={'usage': {'prompt_tokens': 274, 'completion_tokens': 62, 'total_tokens': 336}, 'stop_reason': 'tool_use', 'model_id': 'anthropic.claude-3-sonnet-20240229-v1:0'}, response_metadata={'usage': {'prompt_tokens': 274, 'completion_tokens': 62, 'total_tokens': 336}, 'stop_reason': 'tool_use', 'model_id': 'anthropic.claude-3-sonnet-20240229-v1:0'}, id='run-415f496e-bc13-41b1-ab94-2b30383d8a14-0', tool_calls=[{'name': 'tavily_search_results_json', 'args': {'query': 'Bengaluru weather'}, 'id': 'toolu_bdrk_01AUbXaTHdBgZzVHpEaGyjT2', 'type': 'tool_call'}], usage_metadata={'input_tokens': 274, 'output_tokens': 62, 'total_tokens': 336})]}"
      ]
     },
     "execution_count": 69,
     "metadata": {},
     "output_type": "execute_result"
    }
   ],
   "source": [
    "from langchain_core.messages import HumanMessage\n",
    "\n",
    "inputs = {\"messages\" : [HumanMessage(content = \"What are the current weather conditions in Bengaluru?\")]}\n",
    "app.invoke(inputs)"
   ]
  }
 ],
 "metadata": {
  "kernelspec": {
   "display_name": "pytorch",
   "language": "python",
   "name": "python3"
  },
  "language_info": {
   "codemirror_mode": {
    "name": "ipython",
    "version": 3
   },
   "file_extension": ".py",
   "mimetype": "text/x-python",
   "name": "python",
   "nbconvert_exporter": "python",
   "pygments_lexer": "ipython3",
   "version": "3.11.9"
  }
 },
 "nbformat": 4,
 "nbformat_minor": 2
}
